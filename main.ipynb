{
 "cells": [
  {
   "cell_type": "code",
   "execution_count": null,
   "metadata": {},
   "outputs": [],
   "source": [
    "import pandas as pd\n",
    "from glob import glob\n",
    "\n",
    "path = 'C:\\\\Users\\\\dpashayan\\\\Northwell Health\\\\CBO (1111 Marcus Ave M04) - Robotic Process Automation\\\\Part A - Hospital\\\\Preregistration\\\\Daily Reports\\\\'\n",
    "\n",
    "files = glob(f\"{path}*.xlsx\")\n",
    "\n",
    "data = []\n",
    "for file in files:\n",
    "    sheets = pd.read_excel(file, sheet_name=None)\n",
    "    for sheet in sheets:\n",
    "        if sheet in ['Accounts']:\n",
    "         data.append(pd.read_excel(file, sheet_name=sheet))\n",
    "\n",
    "data = pd.concat(data)"
   ]
  }
 ],
 "metadata": {
  "kernelspec": {
   "display_name": "Python 3",
   "language": "python",
   "name": "python3"
  },
  "language_info": {
   "codemirror_mode": {
    "name": "ipython",
    "version": 3
   },
   "file_extension": ".py",
   "mimetype": "text/x-python",
   "name": "python",
   "nbconvert_exporter": "python",
   "pygments_lexer": "ipython3",
   "version": "3.11.3"
  }
 },
 "nbformat": 4,
 "nbformat_minor": 0
}
